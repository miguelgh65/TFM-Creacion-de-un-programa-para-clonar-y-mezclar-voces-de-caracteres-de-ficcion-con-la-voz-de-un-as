{
  "nbformat": 4,
  "nbformat_minor": 0,
  "metadata": {
    "colab": {
      "provenance": []
    },
    "kernelspec": {
      "name": "python3",
      "display_name": "Python 3"
    },
    "language_info": {
      "name": "python"
    }
  },
  "cells": [
    {
      "cell_type": "markdown",
      "source": [
        "**FFMPEG-NORMALIZE**\n"
      ],
      "metadata": {
        "id": "i0WzKonJjSBH"
      }
    },
    {
      "cell_type": "code",
      "execution_count": null,
      "metadata": {
        "id": "vNLmNyk1iOKT"
      },
      "outputs": [],
      "source": [
        "!pip3 install ffmpeg-normalize"
      ]
    },
    {
      "cell_type": "code",
      "source": [
        "FFN_EXT = \"mp3\" #@param [\"ogg\", \"wav\", \"flac\", \"mp3\"]\n",
        "FFN_WORKDIR = \"audiofiles\" #@param {type:\"string\"}\n"
      ],
      "metadata": {
        "id": "DUcB91FljZzP"
      },
      "execution_count": null,
      "outputs": []
    },
    {
      "cell_type": "code",
      "source": [
        "#@title\n",
        "FFN_SCRIPT=\"\"\"\n",
        "#!/bin/bash\n",
        "EXT='\"\"\"+FFN_EXT+\"\"\"'\n",
        "WORK_DIR='\"\"\"+FFN_WORKDIR+\"\"\"'\n",
        "rename 's/\\.([^.]+)$/.\\L$1/' \"$WORK_DIR\"/*\n",
        "cd \"$WORK_DIR\"\n",
        "mkdir backup\n",
        "cp *.$EXT backup\n",
        "ffmpeg-normalize -t -27 -ar 22050 -ext $EXT *.$EXT\n",
        "mv normalized/*.$EXT ../\n",
        "rm -rf normalized\n",
        "\"\"\"\n",
        "with open('audio', 'w') as file:\n",
        "  file.write(FFN_SCRIPT)"
      ],
      "metadata": {
        "id": "N749ePSDjcnA"
      },
      "execution_count": null,
      "outputs": []
    },
    {
      "cell_type": "code",
      "source": [
        "import subprocess\n",
        "\n",
        "bash_script = \"\"\"\n",
        "#!/bin/bash\n",
        "\n",
        "FILE_NAME=\"audio.mp3\"\n",
        "WORK_DIR=\".\"\n",
        "NORMALIZED_DIR=\"${WORK_DIR}/normalized\"\n",
        "EXT=\"${FILE_NAME##*.}\"\n",
        "BASE_NAME=\"${FILE_NAME%.*}\"\n",
        "\n",
        "# Crea el directorio 'normalized' si no existe\n",
        "mkdir -p $NORMALIZED_DIR\n",
        "\n",
        "# Normaliza el archivo de audio\n",
        "ffmpeg-normalize $WORK_DIR/$FILE_NAME -ar 22050 -t -27 -ext $EXT -of $NORMALIZED_DIR -c:a libmp3lame -b:a 128k\n",
        "\n",
        "# Mueve el archivo normalizado al directorio principal y lo renombra a audionormalizado.mp3\n",
        "mv ${NORMALIZED_DIR}/${BASE_NAME}.${EXT} ${WORK_DIR}/audionormalizado.mp3\n",
        "\"\"\"\n",
        "\n",
        "process = subprocess.Popen(bash_script, stdout=subprocess.PIPE, shell=True)\n",
        "output, error = process.communicate()\n"
      ],
      "metadata": {
        "id": "z9vdMNfSjf68"
      },
      "execution_count": null,
      "outputs": []
    },
    {
      "cell_type": "code",
      "source": [
        "mv ${NORMALIZED_DIR}/${BASE_NAME}.${EXT} normalized_audio/${BASE_NAME}_normalized.${EXT}\n"
      ],
      "metadata": {
        "id": "Q-CBN5VBjhCR"
      },
      "execution_count": null,
      "outputs": []
    },
    {
      "cell_type": "code",
      "source": [
        "!sh /content/drive/MyDrive/script-ffmpeg-normalize.sh"
      ],
      "metadata": {
        "id": "gTgATqX2ji1i"
      },
      "execution_count": null,
      "outputs": []
    }
  ]
}