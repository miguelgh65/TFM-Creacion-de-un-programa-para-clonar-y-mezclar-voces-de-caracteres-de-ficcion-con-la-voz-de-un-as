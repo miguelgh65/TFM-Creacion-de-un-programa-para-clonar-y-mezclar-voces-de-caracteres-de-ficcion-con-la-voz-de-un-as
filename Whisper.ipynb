{
  "nbformat": 4,
  "nbformat_minor": 0,
  "metadata": {
    "colab": {
      "provenance": []
    },
    "kernelspec": {
      "name": "python3",
      "display_name": "Python 3"
    },
    "language_info": {
      "name": "python"
    }
  },
  "cells": [
    {
      "cell_type": "markdown",
      "source": [
        "**Muchas partes de este cuaderno pueden hacerse a mano, copiar archivos a la carpeta, cortar audios etc etc, aqui ya meteriamos audios tras normalizacion demux y diarizacion**"
      ],
      "metadata": {
        "id": "UabTrqdFn3wU"
      }
    },
    {
      "cell_type": "code",
      "execution_count": null,
      "metadata": {
        "id": "mgve7UqsnO0o"
      },
      "outputs": [],
      "source": [
        "SP_WORKDIR = \"/content/drive/MyDrive/rodserling-sampleuploads/\" #@param {type:\"string\"}\n",
        "SP_EXT = \"wav\""
      ]
    },
    {
      "cell_type": "code",
      "source": [
        "#@title\n",
        "%cd /content\n",
        "!sudo apt install sox\n",
        "!git clone https://github.com/openai/whisper.git\n",
        "!pip install git+https://github.com/openai/whisper.git\n"
      ],
      "metadata": {
        "id": "FB0jO61Unlgt"
      },
      "execution_count": null,
      "outputs": []
    },
    {
      "cell_type": "markdown",
      "source": [
        "**Debes tener el audio cortado en segmentos, puede hacerlo con Audacity o con Sox en le siguiente codigo**"
      ],
      "metadata": {
        "id": "L0IJ59xVnVM7"
      }
    },
    {
      "cell_type": "code",
      "source": [
        "SP_SCRIPT=\n",
        "#!/bin/bash\n",
        "EXT='\"\"\"+SP_EXT+\"\"\"'\n",
        "WORK_DIR='\"\"\"+SP_WORKDIR+\"\"\"'\n",
        "rename 's/\\.([^.]+)$/.\\L$1/' \"$WORK_DIR\"/*\n",
        "cd \"$WORK_DIR\"\n",
        "mkdir backup-presplit\n",
        "mv *.$EXT backup-presplit\n",
        "cd backup-presplit\n",
        "rm -rf splits\n",
        "mkdir splits\n",
        "for FILE in *.wav; do sox \"$FILE\" splits/\"$FILE\" --show-progress silence 1 0.2 0.1% 1 0.2 0.1% : newfile : restart ; done\n",
        "cd splits\n",
        "mkdir resplit\n",
        "for FILE in *.wav; do sox \"$FILE\" resplit/\"$FILE\" --show-progress trim 0 9 : newfile : restart ; done\n",
        "cd resplit\n",
        "find . -name \"*.wav\" -type f -size -35k -delete\n",
        "mv *.wav $WORK_DIR\n",
        "cd $WORK_DIR\n",
        "rm -rf splits\n",
        "ls -al\n",
        "with open('/content/drive/MyDrive/script-split-samples.sh', 'w') as file:\n",
        "  #file.write(SP_SCRIPT)"
      ],
      "metadata": {
        "id": "LVPqnhBsnqk9"
      },
      "execution_count": null,
      "outputs": []
    },
    {
      "cell_type": "code",
      "source": [
        "!sh /content/drive/MyDrive/script-split-samples.sh"
      ],
      "metadata": {
        "id": "raiB5_7InuTQ"
      },
      "execution_count": null,
      "outputs": []
    },
    {
      "cell_type": "code",
      "source": [
        "NEWDATASET=\"vctk-rodserling-22k-ds\"\n",
        "NEWSPEAKER=\"rodserling\"\n",
        "DATADIR=SP_WORKDIR\n",
        "%cd /content/drive/MyDrive/rodserling-sampleuploads/\n",
        "!mkdir -p \"/content/drive/MyDrive/\"$NEWDATASET\"/wav48_silence_trimmed/\"$NEWSPEAKER\n",
        "!ls \"/content/drive/MyDrive/\"$NEWDATASET\"/wav48_silence_trimmed/\"$NEWSPEAKER\n",
        "!find . -name '*.wav' -maxdepth 1 -exec bash -c 'for f; do ffmpeg -i \"$f\" -ar 22050 -ac 1 -sample_fmt s16 -c:a flac \"${f%.wav}\"_mic1.flac ; done' _ {} +\n",
        "!mv \"/content/drive/MyDrive/\"$DATADIR\"/\"*.flac \"/content/drive/MyDrive/\"$NEWDATASET\"/wav48_silence_trimmed/\"$NEWSPEAKER"
      ],
      "metadata": {
        "id": "yUPTzM0AnwBT"
      },
      "execution_count": null,
      "outputs": []
    },
    {
      "cell_type": "code",
      "source": [
        "!ls /content/drive/MyDrive/$ds_name/wav48_silence_trimmed"
      ],
      "metadata": {
        "id": "ea_cu-7yny4V"
      },
      "execution_count": null,
      "outputs": []
    },
    {
      "cell_type": "code",
      "source": [
        "whisper_model = \"large-v2\" #@param [\"large-v2\", \"large-v1\", \"medium.en\", \"small.en\", \"base.en"
      ],
      "metadata": {
        "id": "cxZOrXueoGby"
      },
      "execution_count": null,
      "outputs": []
    },
    {
      "cell_type": "code",
      "source": [
        "#@title\n",
        "import whisper\n",
        "import os, os.path\n",
        "import glob\n",
        "import pandas as pd\n",
        "\n",
        "from pathlib import Path\n",
        "\n",
        "\n",
        "#model = whisper.load_model(\"medium.en\")\n",
        "model = whisper.load_model(whisper_model"
      ],
      "metadata": {
        "id": "-CaQBN4IoKJX"
      },
      "execution_count": null,
      "outputs": []
    },
    {
      "cell_type": "code",
      "source": [
        "newspeakername = \"mickey\" #@param {type:\"string\"}"
      ],
      "metadata": {
        "id": "9aIxymGRoM8S"
      },
      "execution_count": null,
      "outputs": []
    },
    {
      "cell_type": "code",
      "source": [
        "from transformers import WhisperProcessor, WhisperForConditionalGeneration\n",
        "options = dict(language=\"english\", beam_size=5, best_of=5)\n",
        "transcribe_options = dict(task=\"transcribe\", **options)\n",
        "\n",
        "#@title\n",
        "wavs = '/content/drive/MyDrive/'+ds_name+'/wav48_silence_trimmed/'+newspeakername\n",
        "\n",
        "paths = glob.glob(os.path.join(wavs, '*.flac'))\n",
        "print(len(paths))\n",
        "all_filenames = []\n",
        "transcript_text = []\n",
        "try:\n",
        "\tos.mkdir('/content/drive/MyDrive/'+ds_name+'/txt/')\n",
        "except OSError as error:\n",
        "\tprint(error)\n",
        "try:\n",
        "\tos.mkdir('/content/drive/MyDrive/'+ds_name+'/txt/'+newspeakername+'/')\n",
        "except OSError as error:\n",
        "\tprint(error)\n",
        "\n",
        "for filepath in paths:\n",
        "\tbase = os.path.basename(filepath)\n",
        "\tall_filenames.append(base)\n",
        "\tresult = model.transcribe(filepath, **options)\n",
        "\toutput = result[\"text\"].lstrip()\n",
        "\toutput = output.replace(\"\\n\",\"\")\n",
        "\tprint(output)\n",
        "\tthefile = str(os.path.basename(filepath).lstrip(\".\")).rsplit(\".\")[0]\n",
        "\tthefile = thefile[:-5]\n",
        "\tprint(thefile)\n",
        "\toutfilepath = '/content/drive/MyDrive/'+ds_name+'/txt/'+newspeakername+'/'+thefile+'.txt'\n",
        "\twith open(outfilepath, 'w', encoding='utf-8') as indfile:\n",
        "\t\tindfile.write(output"
      ],
      "metadata": {
        "id": "0EAoiroNoPhR"
      },
      "execution_count": null,
      "outputs": []
    },
    {
      "cell_type": "markdown",
      "source": [
        "**Ver si algun fichero se ha quedao en blancoi o si ha fallado algo**"
      ],
      "metadata": {
        "id": "JX9q9Tx1oU9k"
      }
    },
    {
      "cell_type": "code",
      "source": [
        "check_datasetbase = \"vits-vctk-narrator-22k-ds/\" #@param {type:\"string\"}\n",
        "\n",
        "check_speakername = \"marge\" #@param {type:\"string\"}"
      ],
      "metadata": {
        "id": "wHK94CT_oRdZ"
      },
      "execution_count": null,
      "outputs": []
    },
    {
      "cell_type": "markdown",
      "source": [
        "**Mover los audios no transcritos a una carpeta donde la red neuraonal no los vaya a utlizar**\n",
        "\n",
        "\n"
      ],
      "metadata": {
        "id": "uWBB8TMRobsX"
      }
    },
    {
      "cell_type": "code",
      "source": [
        "or_datasetbase = \"vits-vctk-narrator-22k-ds/\" #@param {type:\"string\"}\n",
        "\n",
        "or_speakername = \"marge\" #@param {type:\"string\""
      ],
      "metadata": {
        "id": "yiA1m-OFoctQ"
      },
      "execution_count": null,
      "outputs": []
    },
    {
      "cell_type": "code",
      "source": [],
      "metadata": {
        "id": "BfFtbRrmoioF"
      },
      "execution_count": null,
      "outputs": []
    }
  ]
}
